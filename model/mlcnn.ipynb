{
 "cells": [
  {
   "cell_type": "code",
   "execution_count": 1,
   "metadata": {},
   "outputs": [
    {
     "name": "stdout",
     "output_type": "stream",
     "text": [
      "1\n",
      "[name: \"/device:CPU:0\"\n",
      "device_type: \"CPU\"\n",
      "memory_limit: 268435456\n",
      "locality {\n",
      "}\n",
      "incarnation: 11514421001023476509\n",
      ", name: \"/device:GPU:0\"\n",
      "device_type: \"GPU\"\n",
      "memory_limit: 5748293632\n",
      "locality {\n",
      "  bus_id: 1\n",
      "  links {\n",
      "  }\n",
      "}\n",
      "incarnation: 7275675487974118435\n",
      "physical_device_desc: \"device: 0, name: NVIDIA GeForce RTX 3070 Laptop GPU, pci bus id: 0000:01:00.0, compute capability: 8.6\"\n",
      "]\n"
     ]
    }
   ],
   "source": [
    "import numpy as np\n",
    "import pandas as pd\n",
    "import tensorflow as tf\n",
    "from keras.preprocessing.image import ImageDataGenerator \n",
    "from keras_preprocessing.image import load_img\n",
    "import matplotlib. pyplot as plt\n",
    "print(len(tf.config.list_physical_devices('GPU')))\n",
    "from tensorflow.python.client import device_lib\n",
    "print(device_lib.list_local_devices())\n",
    "\n"
   ]
  },
  {
   "cell_type": "code",
   "execution_count": 2,
   "metadata": {},
   "outputs": [
    {
     "name": "stdout",
     "output_type": "stream",
     "text": [
      "Found 11405 images belonging to 6 classes.\n"
     ]
    }
   ],
   "source": [
    "train_datagen = ImageDataGenerator(\n",
    "                    rescale = 1/255,\n",
    "                    shear_range = 0.2,\n",
    "                    zoom_range = 0.2,\n",
    "                    horizontal_flip = True,\n",
    "                    vertical_flip = False)\n",
    "training_set = train_datagen.flow_from_directory(\"../Dataset/train/\",\n",
    "                                                 target_size = (64, 64),\n",
    "                                                 class_mode = 'categorical')"
   ]
  },
  {
   "cell_type": "code",
   "execution_count": 3,
   "metadata": {},
   "outputs": [
    {
     "name": "stdout",
     "output_type": "stream",
     "text": [
      "Found 2629 images belonging to 6 classes.\n"
     ]
    }
   ],
   "source": [
    "test_datagen = ImageDataGenerator(rescale = 1/255)\n",
    "test_set = test_datagen.flow_from_directory(\"../Dataset/test/\",\n",
    "                                            target_size = (64, 64),\n",
    "                                            class_mode = 'categorical')"
   ]
  },
  {
   "cell_type": "code",
   "execution_count": 4,
   "metadata": {},
   "outputs": [
    {
     "data": {
      "text/plain": [
       "{'buildings': 0,\n",
       " 'forest': 1,\n",
       " 'glacier': 2,\n",
       " 'mountain': 3,\n",
       " 'sea': 4,\n",
       " 'street': 5}"
      ]
     },
     "execution_count": 4,
     "metadata": {},
     "output_type": "execute_result"
    }
   ],
   "source": [
    "training_set.class_indices"
   ]
  },
  {
   "cell_type": "code",
   "execution_count": 5,
   "metadata": {},
   "outputs": [],
   "source": [
    "from keras.models import Sequential\n",
    "from keras.layers import Convolution2D, MaxPooling2D, Flatten, Dense"
   ]
  },
  {
   "cell_type": "code",
   "execution_count": 6,
   "metadata": {},
   "outputs": [],
   "source": [
    "cnn = Sequential()\n",
    "cnn.add(Convolution2D(filters=32, kernel_size=3, activation='relu', input_shape=(64,64,3)))\n",
    "cnn.add(MaxPooling2D(pool_size=(2,2)))\n",
    "cnn.add(Convolution2D(filters=32, kernel_size=3, activation='relu'))\n",
    "cnn.add(MaxPooling2D(pool_size=(2,2)))\n",
    "cnn.add(Flatten())\n",
    "cnn.add(Dense(units=256, activation='relu'))\n",
    "cnn.add(Dense(units=128, activation='relu'))\n",
    "cnn.add(Dense(units=6, activation='softmax'))"
   ]
  },
  {
   "cell_type": "code",
   "execution_count": 7,
   "metadata": {},
   "outputs": [],
   "source": [
    "cnn.compile(optimizer = 'adam', loss = 'categorical_crossentropy', metrics = ['accuracy'])"
   ]
  },
  {
   "cell_type": "code",
   "execution_count": 14,
   "metadata": {},
   "outputs": [
    {
     "name": "stdout",
     "output_type": "stream",
     "text": [
      "Epoch 1/15\n",
      "357/357 [==============================] - 13s 36ms/step - loss: 0.3893 - accuracy: 0.8598 - val_loss: 0.5501 - val_accuracy: 0.8140\n",
      "Epoch 2/15\n",
      "357/357 [==============================] - 13s 35ms/step - loss: 0.3617 - accuracy: 0.8696 - val_loss: 0.7563 - val_accuracy: 0.7452\n",
      "Epoch 3/15\n",
      "357/357 [==============================] - 13s 36ms/step - loss: 0.3541 - accuracy: 0.8742 - val_loss: 0.6074 - val_accuracy: 0.7969\n",
      "Epoch 4/15\n",
      "357/357 [==============================] - 13s 36ms/step - loss: 0.3353 - accuracy: 0.8794 - val_loss: 0.5320 - val_accuracy: 0.8110\n",
      "Epoch 5/15\n",
      "357/357 [==============================] - 13s 36ms/step - loss: 0.3012 - accuracy: 0.8918 - val_loss: 0.5800 - val_accuracy: 0.8201\n",
      "Epoch 6/15\n",
      "357/357 [==============================] - 12s 35ms/step - loss: 0.3041 - accuracy: 0.8916 - val_loss: 0.6209 - val_accuracy: 0.8060\n",
      "Epoch 7/15\n",
      "357/357 [==============================] - 13s 36ms/step - loss: 0.2710 - accuracy: 0.9000 - val_loss: 0.6333 - val_accuracy: 0.7957\n",
      "Epoch 8/15\n",
      "357/357 [==============================] - 12s 35ms/step - loss: 0.2557 - accuracy: 0.9084 - val_loss: 0.6303 - val_accuracy: 0.8018\n",
      "Epoch 9/15\n",
      "357/357 [==============================] - 13s 36ms/step - loss: 0.2530 - accuracy: 0.9093 - val_loss: 0.5817 - val_accuracy: 0.8258\n",
      "Epoch 10/15\n",
      "357/357 [==============================] - 13s 36ms/step - loss: 0.2410 - accuracy: 0.9133 - val_loss: 0.6650 - val_accuracy: 0.8113\n",
      "Epoch 11/15\n",
      "357/357 [==============================] - 13s 36ms/step - loss: 0.2168 - accuracy: 0.9201 - val_loss: 0.6396 - val_accuracy: 0.8132\n",
      "Epoch 12/15\n",
      "357/357 [==============================] - 13s 36ms/step - loss: 0.2237 - accuracy: 0.9198 - val_loss: 0.7043 - val_accuracy: 0.7965\n",
      "Epoch 13/15\n",
      "357/357 [==============================] - 13s 36ms/step - loss: 0.2102 - accuracy: 0.9244 - val_loss: 0.7148 - val_accuracy: 0.8030\n",
      "Epoch 14/15\n",
      "357/357 [==============================] - 13s 35ms/step - loss: 0.2040 - accuracy: 0.9241 - val_loss: 0.7639 - val_accuracy: 0.7855\n",
      "Epoch 15/15\n",
      "357/357 [==============================] - 13s 36ms/step - loss: 0.1967 - accuracy: 0.9307 - val_loss: 0.6821 - val_accuracy: 0.8167\n"
     ]
    },
    {
     "data": {
      "text/plain": [
       "<keras.callbacks.History at 0x23f7d8e3a00>"
      ]
     },
     "execution_count": 14,
     "metadata": {},
     "output_type": "execute_result"
    }
   ],
   "source": [
    "cnn.fit(training_set, steps_per_epoch= len(training_set), validation_data = test_set, validation_steps=len(test_set), epochs = 15)"
   ]
  },
  {
   "cell_type": "code",
   "execution_count": 15,
   "metadata": {},
   "outputs": [
    {
     "data": {
      "image/png": "[encoded data removed]",
      "text/plain": [
       "<Figure size 640x480 with 1 Axes>"
      ]
     },
     "metadata": {},
     "output_type": "display_data"
    },
    {
     "name": "stdout",
     "output_type": "stream",
     "text": [
      "<PIL.Image.Image image mode=RGB size=64x64 at 0x23F6B41FA90>\n",
      "[[[  2.   2.   2.]\n",
      "  [  0.   0.   0.]\n",
      "  [  0.   0.   0.]\n",
      "  ...\n",
      "  [  0.   0.   0.]\n",
      "  [  0.   0.   0.]\n",
      "  [  0.   0.   0.]]\n",
      "\n",
      " [[ 13.  13.  13.]\n",
      "  [ 16.  16.  16.]\n",
      "  [ 37.  37.  37.]\n",
      "  ...\n",
      "  [  0.   0.   0.]\n",
      "  [  0.   0.   0.]\n",
      "  [  0.   0.   0.]]\n",
      "\n",
      " [[  1.   1.   1.]\n",
      "  [  1.   1.   1.]\n",
      "  [  5.   5.   5.]\n",
      "  ...\n",
      "  [  0.   0.   0.]\n",
      "  [  0.   0.   0.]\n",
      "  [  0.   0.   0.]]\n",
      "\n",
      " ...\n",
      "\n",
      " [[ 64.  64.  64.]\n",
      "  [137. 137. 137.]\n",
      "  [143. 143. 143.]\n",
      "  ...\n",
      "  [ 13.  13.  13.]\n",
      "  [ 12.  12.  12.]\n",
      "  [  0.   0.   0.]]\n",
      "\n",
      " [[  3.   3.   3.]\n",
      "  [  9.   9.   9.]\n",
      "  [  4.   4.   4.]\n",
      "  ...\n",
      "  [ 12.  12.  12.]\n",
      "  [  4.   4.   4.]\n",
      "  [  0.   0.   0.]]\n",
      "\n",
      " [[ 79.  79.  79.]\n",
      "  [103. 103. 103.]\n",
      "  [129. 129. 129.]\n",
      "  ...\n",
      "  [ 15.  15.  15.]\n",
      "  [  6.   6.   6.]\n",
      "  [  0.   0.   0.]]]\n",
      "[[[[  2.   2.   2.]\n",
      "   [  0.   0.   0.]\n",
      "   [  0.   0.   0.]\n",
      "   ...\n",
      "   [  0.   0.   0.]\n",
      "   [  0.   0.   0.]\n",
      "   [  0.   0.   0.]]\n",
      "\n",
      "  [[ 13.  13.  13.]\n",
      "   [ 16.  16.  16.]\n",
      "   [ 37.  37.  37.]\n",
      "   ...\n",
      "   [  0.   0.   0.]\n",
      "   [  0.   0.   0.]\n",
      "   [  0.   0.   0.]]\n",
      "\n",
      "  [[  1.   1.   1.]\n",
      "   [  1.   1.   1.]\n",
      "   [  5.   5.   5.]\n",
      "   ...\n",
      "   [  0.   0.   0.]\n",
      "   [  0.   0.   0.]\n",
      "   [  0.   0.   0.]]\n",
      "\n",
      "  ...\n",
      "\n",
      "  [[ 64.  64.  64.]\n",
      "   [137. 137. 137.]\n",
      "   [143. 143. 143.]\n",
      "   ...\n",
      "   [ 13.  13.  13.]\n",
      "   [ 12.  12.  12.]\n",
      "   [  0.   0.   0.]]\n",
      "\n",
      "  [[  3.   3.   3.]\n",
      "   [  9.   9.   9.]\n",
      "   [  4.   4.   4.]\n",
      "   ...\n",
      "   [ 12.  12.  12.]\n",
      "   [  4.   4.   4.]\n",
      "   [  0.   0.   0.]]\n",
      "\n",
      "  [[ 79.  79.  79.]\n",
      "   [103. 103. 103.]\n",
      "   [129. 129. 129.]\n",
      "   ...\n",
      "   [ 15.  15.  15.]\n",
      "   [  6.   6.   6.]\n",
      "   [  0.   0.   0.]]]]\n"
     ]
    },
    {
     "data": {
      "text/plain": [
       "'buildings'"
      ]
     },
     "execution_count": 15,
     "metadata": {},
     "output_type": "execute_result"
    }
   ],
   "source": [
    "from keras_preprocessing.image.utils import load_img,img_to_array\n",
    "import numpy as np\n",
    "from keras.preprocessing import image\n",
    "index = ['buildings','forest','glacier','mountain','sea','street']\n",
    "img = load_img(\"../Dataset/test/buildings/15331.jpg\", target_size=(64,64))\n",
    "imgplot = plt. imshow(img)\n",
    "plt. show()\n",
    "print(img)\n",
    "x = img_to_array(img)\n",
    "print(x)\n",
    "x = np.expand_dims(x,axis=0)\n",
    "print(x)\n",
    "pred = np.argmax(cnn.predict(x),axis=1)\n",
    "pred\n",
    "index[pred[0]]"
   ]
  },
  {
   "cell_type": "code",
   "execution_count": 16,
   "metadata": {},
   "outputs": [
    {
     "data": {
      "image/png": "[encoded data removed]",
      "text/plain": [
       "<Figure size 640x480 with 1 Axes>"
      ]
     },
     "metadata": {},
     "output_type": "display_data"
    },
    {
     "name": "stdout",
     "output_type": "stream",
     "text": [
      "[[[213. 176. 121.]\n",
      "  [214. 177. 122.]\n",
      "  [211. 176. 122.]\n",
      "  ...\n",
      "  [251. 206. 138.]\n",
      "  [254. 209. 141.]\n",
      "  [253. 208. 140.]]\n",
      "\n",
      " [[240. 196. 133.]\n",
      "  [237. 196. 130.]\n",
      "  [245. 205. 135.]\n",
      "  ...\n",
      "  [245. 200. 135.]\n",
      "  [247. 202. 137.]\n",
      "  [249. 204. 139.]]\n",
      "\n",
      " [[254. 215. 146.]\n",
      "  [255. 217. 152.]\n",
      "  [253. 213. 152.]\n",
      "  ...\n",
      "  [200. 167. 116.]\n",
      "  [202. 169. 118.]\n",
      "  [203. 170. 119.]]\n",
      "\n",
      " ...\n",
      "\n",
      " [[  0.   4.   3.]\n",
      "  [ 18.  20.  19.]\n",
      "  [ 35.  37.  32.]\n",
      "  ...\n",
      "  [  4.   0.   0.]\n",
      "  [  3.   0.   0.]\n",
      "  [ 11.   8.   3.]]\n",
      "\n",
      " [[ 17.  21.  20.]\n",
      "  [ 12.  14.  13.]\n",
      "  [ 42.  43.  37.]\n",
      "  ...\n",
      "  [ 48.  47.  43.]\n",
      "  [ 49.  48.  44.]\n",
      "  [ 52.  51.  47.]]\n",
      "\n",
      " [[ 27.  33.  29.]\n",
      "  [ 13.  15.  14.]\n",
      "  [ 23.  24.  19.]\n",
      "  ...\n",
      "  [ 40.  39.  35.]\n",
      "  [ 41.  40.  36.]\n",
      "  [ 40.  39.  35.]]]\n",
      "[[[[213. 176. 121.]\n",
      "   [214. 177. 122.]\n",
      "   [211. 176. 122.]\n",
      "   ...\n",
      "   [251. 206. 138.]\n",
      "   [254. 209. 141.]\n",
      "   [253. 208. 140.]]\n",
      "\n",
      "  [[240. 196. 133.]\n",
      "   [237. 196. 130.]\n",
      "   [245. 205. 135.]\n",
      "   ...\n",
      "   [245. 200. 135.]\n",
      "   [247. 202. 137.]\n",
      "   [249. 204. 139.]]\n",
      "\n",
      "  [[254. 215. 146.]\n",
      "   [255. 217. 152.]\n",
      "   [253. 213. 152.]\n",
      "   ...\n",
      "   [200. 167. 116.]\n",
      "   [202. 169. 118.]\n",
      "   [203. 170. 119.]]\n",
      "\n",
      "  ...\n",
      "\n",
      "  [[  0.   4.   3.]\n",
      "   [ 18.  20.  19.]\n",
      "   [ 35.  37.  32.]\n",
      "   ...\n",
      "   [  4.   0.   0.]\n",
      "   [  3.   0.   0.]\n",
      "   [ 11.   8.   3.]]\n",
      "\n",
      "  [[ 17.  21.  20.]\n",
      "   [ 12.  14.  13.]\n",
      "   [ 42.  43.  37.]\n",
      "   ...\n",
      "   [ 48.  47.  43.]\n",
      "   [ 49.  48.  44.]\n",
      "   [ 52.  51.  47.]]\n",
      "\n",
      "  [[ 27.  33.  29.]\n",
      "   [ 13.  15.  14.]\n",
      "   [ 23.  24.  19.]\n",
      "   ...\n",
      "   [ 40.  39.  35.]\n",
      "   [ 41.  40.  36.]\n",
      "   [ 40.  39.  35.]]]]\n"
     ]
    },
    {
     "data": {
      "text/plain": [
       "'sea'"
      ]
     },
     "execution_count": 16,
     "metadata": {},
     "output_type": "execute_result"
    }
   ],
   "source": [
    "img = load_img('../Dataset/test/sea/14990.jpg', target_size=(64,64))\n",
    "imgplot = plt. imshow(img)\n",
    "plt. show()\n",
    "x = img_to_array(img)\n",
    "print(x)\n",
    "x = np.expand_dims(x,axis=0)\n",
    "print(x)\n",
    "pred = np.argmax(cnn.predict(x),axis=1)\n",
    "pred\n",
    "index[pred[0]]"
   ]
  },
  {
   "cell_type": "code",
   "execution_count": 17,
   "metadata": {},
   "outputs": [
    {
     "data": {
      "image/png": "[encoded data removed]",
      "text/plain": [
       "<Figure size 640x480 with 1 Axes>"
      ]
     },
     "metadata": {},
     "output_type": "display_data"
    },
    {
     "name": "stdout",
     "output_type": "stream",
     "text": [
      "[[[ 13.  33.  58.]\n",
      "  [ 13.  33.  58.]\n",
      "  [ 13.  33.  58.]\n",
      "  ...\n",
      "  [ 16.  37.  68.]\n",
      "  [ 16.  37.  68.]\n",
      "  [ 16.  37.  68.]]\n",
      "\n",
      " [[ 14.  34.  61.]\n",
      "  [ 14.  34.  61.]\n",
      "  [ 14.  34.  61.]\n",
      "  ...\n",
      "  [ 16.  37.  68.]\n",
      "  [ 16.  37.  68.]\n",
      "  [ 17.  38.  69.]]\n",
      "\n",
      " [[ 15.  35.  62.]\n",
      "  [ 15.  35.  62.]\n",
      "  [ 15.  35.  62.]\n",
      "  ...\n",
      "  [ 18.  38.  71.]\n",
      "  [ 18.  38.  73.]\n",
      "  [ 17.  37.  72.]]\n",
      "\n",
      " ...\n",
      "\n",
      " [[110. 118. 121.]\n",
      "  [114. 121. 127.]\n",
      "  [120. 129. 134.]\n",
      "  ...\n",
      "  [160. 161. 163.]\n",
      "  [160. 161. 163.]\n",
      "  [163. 164. 166.]]\n",
      "\n",
      " [[123. 128. 132.]\n",
      "  [116. 124. 127.]\n",
      "  [110. 119. 124.]\n",
      "  ...\n",
      "  [159. 160. 162.]\n",
      "  [163. 164. 166.]\n",
      "  [166. 167. 169.]]\n",
      "\n",
      " [[121. 126. 130.]\n",
      "  [108. 116. 119.]\n",
      "  [113. 122. 127.]\n",
      "  ...\n",
      "  [168. 169. 171.]\n",
      "  [170. 171. 173.]\n",
      "  [171. 172. 174.]]]\n",
      "[[[[ 13.  33.  58.]\n",
      "   [ 13.  33.  58.]\n",
      "   [ 13.  33.  58.]\n",
      "   ...\n",
      "   [ 16.  37.  68.]\n",
      "   [ 16.  37.  68.]\n",
      "   [ 16.  37.  68.]]\n",
      "\n",
      "  [[ 14.  34.  61.]\n",
      "   [ 14.  34.  61.]\n",
      "   [ 14.  34.  61.]\n",
      "   ...\n",
      "   [ 16.  37.  68.]\n",
      "   [ 16.  37.  68.]\n",
      "   [ 17.  38.  69.]]\n",
      "\n",
      "  [[ 15.  35.  62.]\n",
      "   [ 15.  35.  62.]\n",
      "   [ 15.  35.  62.]\n",
      "   ...\n",
      "   [ 18.  38.  71.]\n",
      "   [ 18.  38.  73.]\n",
      "   [ 17.  37.  72.]]\n",
      "\n",
      "  ...\n",
      "\n",
      "  [[110. 118. 121.]\n",
      "   [114. 121. 127.]\n",
      "   [120. 129. 134.]\n",
      "   ...\n",
      "   [160. 161. 163.]\n",
      "   [160. 161. 163.]\n",
      "   [163. 164. 166.]]\n",
      "\n",
      "  [[123. 128. 132.]\n",
      "   [116. 124. 127.]\n",
      "   [110. 119. 124.]\n",
      "   ...\n",
      "   [159. 160. 162.]\n",
      "   [163. 164. 166.]\n",
      "   [166. 167. 169.]]\n",
      "\n",
      "  [[121. 126. 130.]\n",
      "   [108. 116. 119.]\n",
      "   [113. 122. 127.]\n",
      "   ...\n",
      "   [168. 169. 171.]\n",
      "   [170. 171. 173.]\n",
      "   [171. 172. 174.]]]]\n"
     ]
    },
    {
     "data": {
      "text/plain": [
       "'glacier'"
      ]
     },
     "execution_count": 17,
     "metadata": {},
     "output_type": "execute_result"
    }
   ],
   "source": [
    "img = load_img('../Dataset/test/glacier/13251.jpg', target_size=(64,64))\n",
    "imgplot = plt. imshow(img)\n",
    "plt. show()\n",
    "x1 = img_to_array(img)\n",
    "print(x1)\n",
    "x1 = np.expand_dims(x1,axis=0)\n",
    "print(x1)\n",
    "pred1 = np.argmax(cnn.predict(x1),axis=1)\n",
    "pred1\n",
    "index[pred1[0]]\n"
   ]
  },
  {
   "cell_type": "code",
   "execution_count": 18,
   "metadata": {},
   "outputs": [
    {
     "data": {
      "image/png": "[encoded data removed]",
      "text/plain": [
       "<Figure size 640x480 with 1 Axes>"
      ]
     },
     "metadata": {},
     "output_type": "display_data"
    },
    {
     "name": "stdout",
     "output_type": "stream",
     "text": [
      "[[[ 71.  71.  71.]\n",
      "  [ 74.  74.  74.]\n",
      "  [ 71.  71.  71.]\n",
      "  ...\n",
      "  [ 49.  49.  49.]\n",
      "  [ 52.  52.  52.]\n",
      "  [ 53.  53.  53.]]\n",
      "\n",
      " [[ 78.  78.  78.]\n",
      "  [ 78.  78.  78.]\n",
      "  [ 70.  70.  70.]\n",
      "  ...\n",
      "  [ 51.  51.  51.]\n",
      "  [ 53.  53.  53.]\n",
      "  [ 53.  53.  53.]]\n",
      "\n",
      " [[ 74.  74.  74.]\n",
      "  [ 69.  69.  69.]\n",
      "  [ 71.  71.  71.]\n",
      "  ...\n",
      "  [ 52.  52.  52.]\n",
      "  [ 53.  53.  53.]\n",
      "  [ 52.  52.  52.]]\n",
      "\n",
      " ...\n",
      "\n",
      " [[ 56.  56.  56.]\n",
      "  [ 55.  55.  55.]\n",
      "  [ 66.  66.  66.]\n",
      "  ...\n",
      "  [ 97.  97.  97.]\n",
      "  [100. 100. 100.]\n",
      "  [ 99.  99.  99.]]\n",
      "\n",
      " [[ 66.  66.  66.]\n",
      "  [ 66.  66.  66.]\n",
      "  [ 56.  56.  56.]\n",
      "  ...\n",
      "  [ 93.  93.  93.]\n",
      "  [ 97.  97.  97.]\n",
      "  [ 99.  99.  99.]]\n",
      "\n",
      " [[ 65.  65.  65.]\n",
      "  [ 64.  64.  64.]\n",
      "  [ 54.  54.  54.]\n",
      "  ...\n",
      "  [101. 101. 101.]\n",
      "  [ 98.  98.  98.]\n",
      "  [100. 100. 100.]]]\n",
      "[[[[ 71.  71.  71.]\n",
      "   [ 74.  74.  74.]\n",
      "   [ 71.  71.  71.]\n",
      "   ...\n",
      "   [ 49.  49.  49.]\n",
      "   [ 52.  52.  52.]\n",
      "   [ 53.  53.  53.]]\n",
      "\n",
      "  [[ 78.  78.  78.]\n",
      "   [ 78.  78.  78.]\n",
      "   [ 70.  70.  70.]\n",
      "   ...\n",
      "   [ 51.  51.  51.]\n",
      "   [ 53.  53.  53.]\n",
      "   [ 53.  53.  53.]]\n",
      "\n",
      "  [[ 74.  74.  74.]\n",
      "   [ 69.  69.  69.]\n",
      "   [ 71.  71.  71.]\n",
      "   ...\n",
      "   [ 52.  52.  52.]\n",
      "   [ 53.  53.  53.]\n",
      "   [ 52.  52.  52.]]\n",
      "\n",
      "  ...\n",
      "\n",
      "  [[ 56.  56.  56.]\n",
      "   [ 55.  55.  55.]\n",
      "   [ 66.  66.  66.]\n",
      "   ...\n",
      "   [ 97.  97.  97.]\n",
      "   [100. 100. 100.]\n",
      "   [ 99.  99.  99.]]\n",
      "\n",
      "  [[ 66.  66.  66.]\n",
      "   [ 66.  66.  66.]\n",
      "   [ 56.  56.  56.]\n",
      "   ...\n",
      "   [ 93.  93.  93.]\n",
      "   [ 97.  97.  97.]\n",
      "   [ 99.  99.  99.]]\n",
      "\n",
      "  [[ 65.  65.  65.]\n",
      "   [ 64.  64.  64.]\n",
      "   [ 54.  54.  54.]\n",
      "   ...\n",
      "   [101. 101. 101.]\n",
      "   [ 98.  98.  98.]\n",
      "   [100. 100. 100.]]]]\n"
     ]
    },
    {
     "data": {
      "text/plain": [
       "'street'"
      ]
     },
     "execution_count": 18,
     "metadata": {},
     "output_type": "execute_result"
    }
   ],
   "source": [
    "img5 = load_img('../Dataset/test/street/12861.jpg', target_size=(64,64))\n",
    "imgplot = plt. imshow(img5)\n",
    "plt. show()\n",
    "x5 = img_to_array(img5)\n",
    "print(x5)\n",
    "x5 = np.expand_dims(x5,axis=0)\n",
    "print(x5)\n",
    "pred5 = np.argmax(cnn.predict(x5),axis=1)\n",
    "pred5\n",
    "index[pred5[0]]"
   ]
  },
  {
   "cell_type": "code",
   "execution_count": 20,
   "metadata": {},
   "outputs": [
    {
     "data": {
      "image/png": "[encoded data removed]",
      "text/plain": [
       "<Figure size 640x480 with 1 Axes>"
      ]
     },
     "metadata": {},
     "output_type": "display_data"
    },
    {
     "name": "stdout",
     "output_type": "stream",
     "text": [
      "[[[234. 232. 235.]\n",
      "  [119. 117. 122.]\n",
      "  [ 23.  18.  24.]\n",
      "  ...\n",
      "  [102. 100. 111.]\n",
      "  [ 91.  91. 101.]\n",
      "  [218. 218. 226.]]\n",
      "\n",
      " [[202. 197. 201.]\n",
      "  [210. 205. 211.]\n",
      "  [183. 178. 184.]\n",
      "  ...\n",
      "  [139. 137. 150.]\n",
      "  [211. 211. 223.]\n",
      "  [241. 239. 250.]]\n",
      "\n",
      " [[188. 183. 187.]\n",
      "  [250. 245. 251.]\n",
      "  [255. 252. 255.]\n",
      "  ...\n",
      "  [137. 135. 146.]\n",
      "  [209. 207. 220.]\n",
      "  [175. 173. 184.]]\n",
      "\n",
      " ...\n",
      "\n",
      " [[137. 144.  92.]\n",
      "  [127. 131.  81.]\n",
      "  [135. 143.  94.]\n",
      "  ...\n",
      "  [138.  97.  69.]\n",
      "  [130.  93.  66.]\n",
      "  [132.  96.  72.]]\n",
      "\n",
      " [[ 79.  86.  34.]\n",
      "  [106. 108.  58.]\n",
      "  [114. 120.  72.]\n",
      "  ...\n",
      "  [133.  94.  65.]\n",
      "  [152. 115.  89.]\n",
      "  [111.  77.  52.]]\n",
      "\n",
      " [[100. 104.  54.]\n",
      "  [123. 122.  74.]\n",
      "  [105. 108.  63.]\n",
      "  ...\n",
      "  [151. 115.  93.]\n",
      "  [142. 106.  90.]\n",
      "  [116.  84.  71.]]]\n",
      "[[[[234. 232. 235.]\n",
      "   [119. 117. 122.]\n",
      "   [ 23.  18.  24.]\n",
      "   ...\n",
      "   [102. 100. 111.]\n",
      "   [ 91.  91. 101.]\n",
      "   [218. 218. 226.]]\n",
      "\n",
      "  [[202. 197. 201.]\n",
      "   [210. 205. 211.]\n",
      "   [183. 178. 184.]\n",
      "   ...\n",
      "   [139. 137. 150.]\n",
      "   [211. 211. 223.]\n",
      "   [241. 239. 250.]]\n",
      "\n",
      "  [[188. 183. 187.]\n",
      "   [250. 245. 251.]\n",
      "   [255. 252. 255.]\n",
      "   ...\n",
      "   [137. 135. 146.]\n",
      "   [209. 207. 220.]\n",
      "   [175. 173. 184.]]\n",
      "\n",
      "  ...\n",
      "\n",
      "  [[137. 144.  92.]\n",
      "   [127. 131.  81.]\n",
      "   [135. 143.  94.]\n",
      "   ...\n",
      "   [138.  97.  69.]\n",
      "   [130.  93.  66.]\n",
      "   [132.  96.  72.]]\n",
      "\n",
      "  [[ 79.  86.  34.]\n",
      "   [106. 108.  58.]\n",
      "   [114. 120.  72.]\n",
      "   ...\n",
      "   [133.  94.  65.]\n",
      "   [152. 115.  89.]\n",
      "   [111.  77.  52.]]\n",
      "\n",
      "  [[100. 104.  54.]\n",
      "   [123. 122.  74.]\n",
      "   [105. 108.  63.]\n",
      "   ...\n",
      "   [151. 115.  93.]\n",
      "   [142. 106.  90.]\n",
      "   [116.  84.  71.]]]]\n"
     ]
    },
    {
     "data": {
      "text/plain": [
       "'forest'"
      ]
     },
     "execution_count": 20,
     "metadata": {},
     "output_type": "execute_result"
    }
   ],
   "source": [
    "img6 = load_img('../Dataset/test/forest/12968.jpg', target_size=(64,64))\n",
    "imgplot = plt. imshow(img6)\n",
    "plt. show()\n",
    "x6 = img_to_array(img6)\n",
    "print(x6)\n",
    "x6 = np.expand_dims(x6,axis=0)\n",
    "print(x6)\n",
    "pred6 = np.argmax(cnn.predict(x6),axis=1)\n",
    "pred6\n",
    "index[pred6[0]]"
   ]
  }
 ],
 "metadata": {
  "kernelspec": {
   "display_name": "Python 3.9.13 ('tenserflow')",
   "language": "python",
   "name": "python3"
  },
  "language_info": {
   "codemirror_mode": {
    "name": "ipython",
    "version": 3
   },
   "file_extension": ".py",
   "mimetype": "text/x-python",
   "name": "python",
   "nbconvert_exporter": "python",
   "pygments_lexer": "ipython3",
   "version": "3.9.13"
  },
  "orig_nbformat": 4,
  "vscode": {
   "interpreter": {
    "hash": "9539c661234d93aa3bf316fa618be13b588bc5a2acd9d8d4668c9ce95f99e328"
   }
  }
 },
 "nbformat": 4,
 "nbformat_minor": 2
}
