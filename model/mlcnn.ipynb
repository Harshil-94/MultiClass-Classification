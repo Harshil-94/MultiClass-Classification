{
 "cells": [
  {
   "cell_type": "code",
   "execution_count": 1,
   "metadata": {},
   "outputs": [
    {
     "name": "stdout",
     "output_type": "stream",
     "text": [
      "1\n",
      "[name: \"/device:CPU:0\"\n",
      "device_type: \"CPU\"\n",
      "memory_limit: 268435456\n",
      "locality {\n",
      "}\n",
      "incarnation: 17428845248781440988\n",
      ", name: \"/device:GPU:0\"\n",
      "device_type: \"GPU\"\n",
      "memory_limit: 5736759296\n",
      "locality {\n",
      "  bus_id: 1\n",
      "  links {\n",
      "  }\n",
      "}\n",
      "incarnation: 2892603599434031006\n",
      "physical_device_desc: \"device: 0, name: NVIDIA GeForce RTX 3070 Laptop GPU, pci bus id: 0000:01:00.0, compute capability: 8.6\"\n",
      "]\n"
     ]
    }
   ],
   "source": [
    "import numpy as np\n",
    "import pandas as pd\n",
    "import tensorflow as tf\n",
    "from keras.preprocessing.image import ImageDataGenerator \n",
    "from keras_preprocessing.image import load_img\n",
    "import matplotlib. pyplot as plt\n",
    "print(len(tf.config.list_physical_devices('GPU')))\n",
    "from tensorflow.python.client import device_lib\n",
    "print(device_lib.list_local_devices())\n",
    "\n"
   ]
  },
  {
   "cell_type": "code",
   "execution_count": 2,
   "metadata": {},
   "outputs": [
    {
     "name": "stdout",
     "output_type": "stream",
     "text": [
      "Found 11405 images belonging to 6 classes.\n"
     ]
    }
   ],
   "source": [
    "train_datagen = ImageDataGenerator(\n",
    "                    rescale = 1/255,\n",
    "                    shear_range = 0.2,\n",
    "                    zoom_range = 0.2,\n",
    "                    horizontal_flip = True,\n",
    "                    vertical_flip = False)\n",
    "training_set = train_datagen.flow_from_directory(\"../Dataset/train/\",\n",
    "                                                 target_size = (64, 64),\n",
    "                                                 class_mode = 'categorical')"
   ]
  },
  {
   "cell_type": "code",
   "execution_count": 3,
   "metadata": {},
   "outputs": [
    {
     "name": "stdout",
     "output_type": "stream",
     "text": [
      "Found 2629 images belonging to 6 classes.\n"
     ]
    }
   ],
   "source": [
    "test_datagen = ImageDataGenerator(rescale = 1/255)\n",
    "test_set = test_datagen.flow_from_directory(\"../Dataset/test/\",\n",
    "                                            target_size = (64, 64),\n",
    "                                            class_mode = 'categorical')"
   ]
  },
  {
   "cell_type": "code",
   "execution_count": 4,
   "metadata": {},
   "outputs": [
    {
     "data": {
      "text/plain": [
       "{'buildings': 0,\n",
       " 'forest': 1,\n",
       " 'glacier': 2,\n",
       " 'mountain': 3,\n",
       " 'sea': 4,\n",
       " 'street': 5}"
      ]
     },
     "execution_count": 4,
     "metadata": {},
     "output_type": "execute_result"
    }
   ],
   "source": [
    "training_set.class_indices"
   ]
  },
  {
   "cell_type": "code",
   "execution_count": 5,
   "metadata": {},
   "outputs": [],
   "source": [
    "from keras.models import Sequential\n",
    "from keras.layers import Convolution2D, MaxPooling2D, Flatten, Dense"
   ]
  },
  {
   "cell_type": "code",
   "execution_count": 6,
   "metadata": {},
   "outputs": [],
   "source": [
    "cnn = Sequential()\n",
    "cnn.add(Convolution2D(filters=32, kernel_size=3, activation='relu', input_shape=(64,64,3)))\n",
    "cnn.add(MaxPooling2D(pool_size=(2,2)))\n",
    "cnn.add(Convolution2D(filters=32, kernel_size=3, activation='relu'))\n",
    "cnn.add(MaxPooling2D(pool_size=(2,2)))\n",
    "cnn.add(Flatten())\n",
    "cnn.add(Dense(units=256, activation='relu'))\n",
    "cnn.add(Dense(units=128, activation='relu'))\n",
    "cnn.add(Dense(units=6, activation='softmax'))"
   ]
  },
  {
   "cell_type": "code",
   "execution_count": 7,
   "metadata": {},
   "outputs": [],
   "source": [
    "cnn.compile(optimizer = 'adam', loss = 'categorical_crossentropy', metrics = ['accuracy'])"
   ]
  },
  {
   "cell_type": "code",
   "execution_count": 8,
   "metadata": {},
   "outputs": [
    {
     "name": "stdout",
     "output_type": "stream",
     "text": [
      "Epoch 1/15\n",
      "357/357 [==============================] - 24s 44ms/step - loss: 1.0882 - accuracy: 0.5690 - val_loss: 0.8385 - val_accuracy: 0.6885\n",
      "Epoch 2/15\n",
      "357/357 [==============================] - 13s 37ms/step - loss: 0.8220 - accuracy: 0.6972 - val_loss: 0.6924 - val_accuracy: 0.7410\n",
      "Epoch 3/15\n",
      "357/357 [==============================] - 13s 38ms/step - loss: 0.7019 - accuracy: 0.7425 - val_loss: 0.6869 - val_accuracy: 0.7486\n",
      "Epoch 4/15\n",
      "357/357 [==============================] - 13s 36ms/step - loss: 0.6490 - accuracy: 0.7659 - val_loss: 0.6780 - val_accuracy: 0.7588\n",
      "Epoch 5/15\n",
      "357/357 [==============================] - 13s 36ms/step - loss: 0.5773 - accuracy: 0.7915 - val_loss: 0.6351 - val_accuracy: 0.7649\n",
      "Epoch 6/15\n",
      "357/357 [==============================] - 13s 36ms/step - loss: 0.5290 - accuracy: 0.8065 - val_loss: 0.7956 - val_accuracy: 0.7459\n",
      "Epoch 7/15\n",
      "357/357 [==============================] - 13s 37ms/step - loss: 0.4937 - accuracy: 0.8195 - val_loss: 0.7495 - val_accuracy: 0.7528\n",
      "Epoch 8/15\n",
      "357/357 [==============================] - 13s 36ms/step - loss: 0.4699 - accuracy: 0.8293 - val_loss: 0.7537 - val_accuracy: 0.7607\n",
      "Epoch 9/15\n",
      "357/357 [==============================] - 13s 36ms/step - loss: 0.4380 - accuracy: 0.8414 - val_loss: 0.5255 - val_accuracy: 0.8129\n",
      "Epoch 10/15\n",
      "357/357 [==============================] - 13s 35ms/step - loss: 0.4133 - accuracy: 0.8504 - val_loss: 0.5519 - val_accuracy: 0.8098\n",
      "Epoch 11/15\n",
      "357/357 [==============================] - 13s 37ms/step - loss: 0.3868 - accuracy: 0.8621 - val_loss: 0.5170 - val_accuracy: 0.8269\n",
      "Epoch 12/15\n",
      "357/357 [==============================] - 13s 38ms/step - loss: 0.3811 - accuracy: 0.8605 - val_loss: 0.6515 - val_accuracy: 0.7889\n",
      "Epoch 13/15\n",
      "357/357 [==============================] - 13s 37ms/step - loss: 0.3367 - accuracy: 0.8765 - val_loss: 0.5957 - val_accuracy: 0.8125\n",
      "Epoch 14/15\n",
      "357/357 [==============================] - 13s 37ms/step - loss: 0.3294 - accuracy: 0.8791 - val_loss: 0.6372 - val_accuracy: 0.7847\n",
      "Epoch 15/15\n",
      "357/357 [==============================] - 13s 36ms/step - loss: 0.3170 - accuracy: 0.8865 - val_loss: 0.5889 - val_accuracy: 0.8087\n"
     ]
    },
    {
     "data": {
      "text/plain": [
       "<keras.callbacks.History at 0x1cf8d80b700>"
      ]
     },
     "execution_count": 8,
     "metadata": {},
     "output_type": "execute_result"
    }
   ],
   "source": [
    "cnn.fit(training_set, steps_per_epoch= len(training_set), validation_data = test_set, validation_steps=len(test_set), epochs = 15)"
   ]
  },
  {
   "cell_type": "code",
   "execution_count": 14,
   "metadata": {},
   "outputs": [
    {
     "data": {
      "image/png": "[encoded data removed]",
      "text/plain": [
       "<Figure size 432x288 with 1 Axes>"
      ]
     },
     "metadata": {
      "needs_background": "light"
     },
     "output_type": "display_data"
    },
    {
     "name": "stdout",
     "output_type": "stream",
     "text": [
      "<PIL.Image.Image image mode=RGB size=64x64 at 0x14F11481A20>\n",
      "[[[118. 118.  90.]\n",
      "  [132. 127. 108.]\n",
      "  [146. 131. 110.]\n",
      "  ...\n",
      "  [212. 252. 251.]\n",
      "  [211. 253. 251.]\n",
      "  [212. 254. 252.]]\n",
      "\n",
      " [[130. 122. 103.]\n",
      "  [132. 127. 108.]\n",
      "  [137. 131. 109.]\n",
      "  ...\n",
      "  [213. 253. 252.]\n",
      "  [212. 254. 252.]\n",
      "  [211. 253. 251.]]\n",
      "\n",
      " [[130. 117. 101.]\n",
      "  [127. 119. 100.]\n",
      "  [123. 116.  97.]\n",
      "  ...\n",
      "  [214. 254. 253.]\n",
      "  [214. 254. 253.]\n",
      "  [213. 253. 252.]]\n",
      "\n",
      " ...\n",
      "\n",
      " [[ 28.  29.  21.]\n",
      "  [ 13.  18.  14.]\n",
      "  [ 21.  21.  19.]\n",
      "  ...\n",
      "  [ 80.  86.  82.]\n",
      "  [ 55.  23.  26.]\n",
      "  [ 88.  59.  61.]]\n",
      "\n",
      " [[ 27.  31.  17.]\n",
      "  [  6.  16.   8.]\n",
      "  [ 17.  18.  13.]\n",
      "  ...\n",
      "  [ 36.  42.  38.]\n",
      "  [ 61.  36.  40.]\n",
      "  [ 78.  56.  59.]]\n",
      "\n",
      " [[ 46.  50.  35.]\n",
      "  [ 14.  24.  15.]\n",
      "  [ 16.  17.  12.]\n",
      "  ...\n",
      "  [ 28.  37.  36.]\n",
      "  [115. 103. 107.]\n",
      "  [ 92.  81.  85.]]]\n",
      "[[[[118. 118.  90.]\n",
      "   [132. 127. 108.]\n",
      "   [146. 131. 110.]\n",
      "   ...\n",
      "   [212. 252. 251.]\n",
      "   [211. 253. 251.]\n",
      "   [212. 254. 252.]]\n",
      "\n",
      "  [[130. 122. 103.]\n",
      "   [132. 127. 108.]\n",
      "   [137. 131. 109.]\n",
      "   ...\n",
      "   [213. 253. 252.]\n",
      "   [212. 254. 252.]\n",
      "   [211. 253. 251.]]\n",
      "\n",
      "  [[130. 117. 101.]\n",
      "   [127. 119. 100.]\n",
      "   [123. 116.  97.]\n",
      "   ...\n",
      "   [214. 254. 253.]\n",
      "   [214. 254. 253.]\n",
      "   [213. 253. 252.]]\n",
      "\n",
      "  ...\n",
      "\n",
      "  [[ 28.  29.  21.]\n",
      "   [ 13.  18.  14.]\n",
      "   [ 21.  21.  19.]\n",
      "   ...\n",
      "   [ 80.  86.  82.]\n",
      "   [ 55.  23.  26.]\n",
      "   [ 88.  59.  61.]]\n",
      "\n",
      "  [[ 27.  31.  17.]\n",
      "   [  6.  16.   8.]\n",
      "   [ 17.  18.  13.]\n",
      "   ...\n",
      "   [ 36.  42.  38.]\n",
      "   [ 61.  36.  40.]\n",
      "   [ 78.  56.  59.]]\n",
      "\n",
      "  [[ 46.  50.  35.]\n",
      "   [ 14.  24.  15.]\n",
      "   [ 16.  17.  12.]\n",
      "   ...\n",
      "   [ 28.  37.  36.]\n",
      "   [115. 103. 107.]\n",
      "   [ 92.  81.  85.]]]]\n",
      "1/1 [==============================] - 0s 26ms/step\n"
     ]
    },
    {
     "data": {
      "text/plain": [
       "'buildings'"
      ]
     },
     "execution_count": 14,
     "metadata": {},
     "output_type": "execute_result"
    }
   ],
   "source": [
    "from keras_preprocessing.image.utils import load_img,img_to_array\n",
    "import numpy as np\n",
    "from keras.preprocessing import image\n",
    "index = ['buildings','forest','glacier','mountain','sea','street']\n",
    "img = load_img(\"../Dataset/test/buildings/12244.jpg\", target_size=(64,64))\n",
    "imgplot = plt. imshow(img)\n",
    "plt. show()\n",
    "print(img)\n",
    "x = img_to_array(img)\n",
    "print(x)\n",
    "x = np.expand_dims(x,axis=0)\n",
    "print(x)\n",
    "pred = np.argmax(cnn.predict(x),axis=1)\n",
    "pred\n",
    "index[pred[0]]"
   ]
  },
  {
   "cell_type": "code",
   "execution_count": 10,
   "metadata": {},
   "outputs": [
    {
     "data": {
      "image/png": "[encoded data removed]",
      "text/plain": [
       "<Figure size 432x288 with 1 Axes>"
      ]
     },
     "metadata": {
      "needs_background": "light"
     },
     "output_type": "display_data"
    },
    {
     "name": "stdout",
     "output_type": "stream",
     "text": [
      "[[[213. 176. 121.]\n",
      "  [214. 177. 122.]\n",
      "  [211. 176. 122.]\n",
      "  ...\n",
      "  [251. 206. 138.]\n",
      "  [254. 209. 141.]\n",
      "  [253. 208. 140.]]\n",
      "\n",
      " [[240. 196. 133.]\n",
      "  [237. 196. 130.]\n",
      "  [245. 205. 135.]\n",
      "  ...\n",
      "  [245. 200. 135.]\n",
      "  [247. 202. 137.]\n",
      "  [249. 204. 139.]]\n",
      "\n",
      " [[254. 215. 146.]\n",
      "  [255. 217. 152.]\n",
      "  [253. 213. 152.]\n",
      "  ...\n",
      "  [200. 167. 116.]\n",
      "  [202. 169. 118.]\n",
      "  [203. 170. 119.]]\n",
      "\n",
      " ...\n",
      "\n",
      " [[  0.   4.   3.]\n",
      "  [ 18.  20.  19.]\n",
      "  [ 35.  37.  32.]\n",
      "  ...\n",
      "  [  4.   0.   0.]\n",
      "  [  3.   0.   0.]\n",
      "  [ 11.   8.   3.]]\n",
      "\n",
      " [[ 17.  21.  20.]\n",
      "  [ 12.  14.  13.]\n",
      "  [ 42.  43.  37.]\n",
      "  ...\n",
      "  [ 48.  47.  43.]\n",
      "  [ 49.  48.  44.]\n",
      "  [ 52.  51.  47.]]\n",
      "\n",
      " [[ 27.  33.  29.]\n",
      "  [ 13.  15.  14.]\n",
      "  [ 23.  24.  19.]\n",
      "  ...\n",
      "  [ 40.  39.  35.]\n",
      "  [ 41.  40.  36.]\n",
      "  [ 40.  39.  35.]]]\n",
      "[[[[213. 176. 121.]\n",
      "   [214. 177. 122.]\n",
      "   [211. 176. 122.]\n",
      "   ...\n",
      "   [251. 206. 138.]\n",
      "   [254. 209. 141.]\n",
      "   [253. 208. 140.]]\n",
      "\n",
      "  [[240. 196. 133.]\n",
      "   [237. 196. 130.]\n",
      "   [245. 205. 135.]\n",
      "   ...\n",
      "   [245. 200. 135.]\n",
      "   [247. 202. 137.]\n",
      "   [249. 204. 139.]]\n",
      "\n",
      "  [[254. 215. 146.]\n",
      "   [255. 217. 152.]\n",
      "   [253. 213. 152.]\n",
      "   ...\n",
      "   [200. 167. 116.]\n",
      "   [202. 169. 118.]\n",
      "   [203. 170. 119.]]\n",
      "\n",
      "  ...\n",
      "\n",
      "  [[  0.   4.   3.]\n",
      "   [ 18.  20.  19.]\n",
      "   [ 35.  37.  32.]\n",
      "   ...\n",
      "   [  4.   0.   0.]\n",
      "   [  3.   0.   0.]\n",
      "   [ 11.   8.   3.]]\n",
      "\n",
      "  [[ 17.  21.  20.]\n",
      "   [ 12.  14.  13.]\n",
      "   [ 42.  43.  37.]\n",
      "   ...\n",
      "   [ 48.  47.  43.]\n",
      "   [ 49.  48.  44.]\n",
      "   [ 52.  51.  47.]]\n",
      "\n",
      "  [[ 27.  33.  29.]\n",
      "   [ 13.  15.  14.]\n",
      "   [ 23.  24.  19.]\n",
      "   ...\n",
      "   [ 40.  39.  35.]\n",
      "   [ 41.  40.  36.]\n",
      "   [ 40.  39.  35.]]]]\n",
      "1/1 [==============================] - 0s 21ms/step\n"
     ]
    },
    {
     "data": {
      "text/plain": [
       "'sea'"
      ]
     },
     "execution_count": 10,
     "metadata": {},
     "output_type": "execute_result"
    }
   ],
   "source": [
    "img = load_img('../Dataset/test/sea/14990.jpg', target_size=(64,64))\n",
    "imgplot = plt. imshow(img)\n",
    "plt. show()\n",
    "x = img_to_array(img)\n",
    "print(x)\n",
    "x = np.expand_dims(x,axis=0)\n",
    "print(x)\n",
    "pred = np.argmax(cnn.predict(x),axis=1)\n",
    "pred\n",
    "index[pred[0]]"
   ]
  },
  {
   "cell_type": "code",
   "execution_count": 11,
   "metadata": {},
   "outputs": [
    {
     "data": {
      "image/png": "[encoded data removed]",
      "text/plain": [
       "<Figure size 432x288 with 1 Axes>"
      ]
     },
     "metadata": {
      "needs_background": "light"
     },
     "output_type": "display_data"
    },
    {
     "name": "stdout",
     "output_type": "stream",
     "text": [
      "[[[ 13.  33.  58.]\n",
      "  [ 13.  33.  58.]\n",
      "  [ 13.  33.  58.]\n",
      "  ...\n",
      "  [ 16.  37.  68.]\n",
      "  [ 16.  37.  68.]\n",
      "  [ 16.  37.  68.]]\n",
      "\n",
      " [[ 14.  34.  61.]\n",
      "  [ 14.  34.  61.]\n",
      "  [ 14.  34.  61.]\n",
      "  ...\n",
      "  [ 16.  37.  68.]\n",
      "  [ 16.  37.  68.]\n",
      "  [ 17.  38.  69.]]\n",
      "\n",
      " [[ 15.  35.  62.]\n",
      "  [ 15.  35.  62.]\n",
      "  [ 15.  35.  62.]\n",
      "  ...\n",
      "  [ 18.  38.  71.]\n",
      "  [ 18.  38.  73.]\n",
      "  [ 17.  37.  72.]]\n",
      "\n",
      " ...\n",
      "\n",
      " [[110. 118. 121.]\n",
      "  [114. 121. 127.]\n",
      "  [120. 129. 134.]\n",
      "  ...\n",
      "  [160. 161. 163.]\n",
      "  [160. 161. 163.]\n",
      "  [163. 164. 166.]]\n",
      "\n",
      " [[123. 128. 132.]\n",
      "  [116. 124. 127.]\n",
      "  [110. 119. 124.]\n",
      "  ...\n",
      "  [159. 160. 162.]\n",
      "  [163. 164. 166.]\n",
      "  [166. 167. 169.]]\n",
      "\n",
      " [[121. 126. 130.]\n",
      "  [108. 116. 119.]\n",
      "  [113. 122. 127.]\n",
      "  ...\n",
      "  [168. 169. 171.]\n",
      "  [170. 171. 173.]\n",
      "  [171. 172. 174.]]]\n",
      "[[[[ 13.  33.  58.]\n",
      "   [ 13.  33.  58.]\n",
      "   [ 13.  33.  58.]\n",
      "   ...\n",
      "   [ 16.  37.  68.]\n",
      "   [ 16.  37.  68.]\n",
      "   [ 16.  37.  68.]]\n",
      "\n",
      "  [[ 14.  34.  61.]\n",
      "   [ 14.  34.  61.]\n",
      "   [ 14.  34.  61.]\n",
      "   ...\n",
      "   [ 16.  37.  68.]\n",
      "   [ 16.  37.  68.]\n",
      "   [ 17.  38.  69.]]\n",
      "\n",
      "  [[ 15.  35.  62.]\n",
      "   [ 15.  35.  62.]\n",
      "   [ 15.  35.  62.]\n",
      "   ...\n",
      "   [ 18.  38.  71.]\n",
      "   [ 18.  38.  73.]\n",
      "   [ 17.  37.  72.]]\n",
      "\n",
      "  ...\n",
      "\n",
      "  [[110. 118. 121.]\n",
      "   [114. 121. 127.]\n",
      "   [120. 129. 134.]\n",
      "   ...\n",
      "   [160. 161. 163.]\n",
      "   [160. 161. 163.]\n",
      "   [163. 164. 166.]]\n",
      "\n",
      "  [[123. 128. 132.]\n",
      "   [116. 124. 127.]\n",
      "   [110. 119. 124.]\n",
      "   ...\n",
      "   [159. 160. 162.]\n",
      "   [163. 164. 166.]\n",
      "   [166. 167. 169.]]\n",
      "\n",
      "  [[121. 126. 130.]\n",
      "   [108. 116. 119.]\n",
      "   [113. 122. 127.]\n",
      "   ...\n",
      "   [168. 169. 171.]\n",
      "   [170. 171. 173.]\n",
      "   [171. 172. 174.]]]]\n",
      "1/1 [==============================] - 0s 34ms/step\n"
     ]
    },
    {
     "data": {
      "text/plain": [
       "'glacier'"
      ]
     },
     "execution_count": 11,
     "metadata": {},
     "output_type": "execute_result"
    }
   ],
   "source": [
    "img = load_img('../Dataset/test/glacier/13251.jpg', target_size=(64,64))\n",
    "imgplot = plt. imshow(img)\n",
    "plt. show()\n",
    "x1 = img_to_array(img)\n",
    "print(x1)\n",
    "x1 = np.expand_dims(x1,axis=0)\n",
    "print(x1)\n",
    "pred1 = np.argmax(cnn.predict(x1),axis=1)\n",
    "pred1\n",
    "index[pred1[0]]\n"
   ]
  },
  {
   "cell_type": "code",
   "execution_count": 12,
   "metadata": {},
   "outputs": [
    {
     "data": {
      "image/png": "[encoded data removed]",
      "text/plain": [
       "<Figure size 432x288 with 1 Axes>"
      ]
     },
     "metadata": {
      "needs_background": "light"
     },
     "output_type": "display_data"
    },
    {
     "name": "stdout",
     "output_type": "stream",
     "text": [
      "[[[ 71.  71.  71.]\n",
      "  [ 74.  74.  74.]\n",
      "  [ 71.  71.  71.]\n",
      "  ...\n",
      "  [ 49.  49.  49.]\n",
      "  [ 52.  52.  52.]\n",
      "  [ 53.  53.  53.]]\n",
      "\n",
      " [[ 78.  78.  78.]\n",
      "  [ 78.  78.  78.]\n",
      "  [ 70.  70.  70.]\n",
      "  ...\n",
      "  [ 51.  51.  51.]\n",
      "  [ 53.  53.  53.]\n",
      "  [ 53.  53.  53.]]\n",
      "\n",
      " [[ 74.  74.  74.]\n",
      "  [ 69.  69.  69.]\n",
      "  [ 71.  71.  71.]\n",
      "  ...\n",
      "  [ 52.  52.  52.]\n",
      "  [ 53.  53.  53.]\n",
      "  [ 52.  52.  52.]]\n",
      "\n",
      " ...\n",
      "\n",
      " [[ 56.  56.  56.]\n",
      "  [ 55.  55.  55.]\n",
      "  [ 66.  66.  66.]\n",
      "  ...\n",
      "  [ 97.  97.  97.]\n",
      "  [100. 100. 100.]\n",
      "  [ 99.  99.  99.]]\n",
      "\n",
      " [[ 66.  66.  66.]\n",
      "  [ 66.  66.  66.]\n",
      "  [ 56.  56.  56.]\n",
      "  ...\n",
      "  [ 93.  93.  93.]\n",
      "  [ 97.  97.  97.]\n",
      "  [ 99.  99.  99.]]\n",
      "\n",
      " [[ 65.  65.  65.]\n",
      "  [ 64.  64.  64.]\n",
      "  [ 54.  54.  54.]\n",
      "  ...\n",
      "  [101. 101. 101.]\n",
      "  [ 98.  98.  98.]\n",
      "  [100. 100. 100.]]]\n",
      "[[[[ 71.  71.  71.]\n",
      "   [ 74.  74.  74.]\n",
      "   [ 71.  71.  71.]\n",
      "   ...\n",
      "   [ 49.  49.  49.]\n",
      "   [ 52.  52.  52.]\n",
      "   [ 53.  53.  53.]]\n",
      "\n",
      "  [[ 78.  78.  78.]\n",
      "   [ 78.  78.  78.]\n",
      "   [ 70.  70.  70.]\n",
      "   ...\n",
      "   [ 51.  51.  51.]\n",
      "   [ 53.  53.  53.]\n",
      "   [ 53.  53.  53.]]\n",
      "\n",
      "  [[ 74.  74.  74.]\n",
      "   [ 69.  69.  69.]\n",
      "   [ 71.  71.  71.]\n",
      "   ...\n",
      "   [ 52.  52.  52.]\n",
      "   [ 53.  53.  53.]\n",
      "   [ 52.  52.  52.]]\n",
      "\n",
      "  ...\n",
      "\n",
      "  [[ 56.  56.  56.]\n",
      "   [ 55.  55.  55.]\n",
      "   [ 66.  66.  66.]\n",
      "   ...\n",
      "   [ 97.  97.  97.]\n",
      "   [100. 100. 100.]\n",
      "   [ 99.  99.  99.]]\n",
      "\n",
      "  [[ 66.  66.  66.]\n",
      "   [ 66.  66.  66.]\n",
      "   [ 56.  56.  56.]\n",
      "   ...\n",
      "   [ 93.  93.  93.]\n",
      "   [ 97.  97.  97.]\n",
      "   [ 99.  99.  99.]]\n",
      "\n",
      "  [[ 65.  65.  65.]\n",
      "   [ 64.  64.  64.]\n",
      "   [ 54.  54.  54.]\n",
      "   ...\n",
      "   [101. 101. 101.]\n",
      "   [ 98.  98.  98.]\n",
      "   [100. 100. 100.]]]]\n",
      "1/1 [==============================] - 0s 21ms/step\n"
     ]
    },
    {
     "data": {
      "text/plain": [
       "'street'"
      ]
     },
     "execution_count": 12,
     "metadata": {},
     "output_type": "execute_result"
    }
   ],
   "source": [
    "img5 = load_img('../Dataset/test/street/12861.jpg', target_size=(64,64))\n",
    "imgplot = plt. imshow(img5)\n",
    "plt. show()\n",
    "x5 = img_to_array(img5)\n",
    "print(x5)\n",
    "x5 = np.expand_dims(x5,axis=0)\n",
    "print(x5)\n",
    "pred5 = np.argmax(cnn.predict(x5),axis=1)\n",
    "pred5\n",
    "index[pred5[0]]"
   ]
  },
  {
   "cell_type": "code",
   "execution_count": 13,
   "metadata": {},
   "outputs": [
    {
     "data": {
      "image/png": "[encoded data removed]",
      "text/plain": [
       "<Figure size 432x288 with 1 Axes>"
      ]
     },
     "metadata": {
      "needs_background": "light"
     },
     "output_type": "display_data"
    },
    {
     "name": "stdout",
     "output_type": "stream",
     "text": [
      "[[[234. 232. 235.]\n",
      "  [119. 117. 122.]\n",
      "  [ 23.  18.  24.]\n",
      "  ...\n",
      "  [102. 100. 111.]\n",
      "  [ 91.  91. 101.]\n",
      "  [218. 218. 226.]]\n",
      "\n",
      " [[202. 197. 201.]\n",
      "  [210. 205. 211.]\n",
      "  [183. 178. 184.]\n",
      "  ...\n",
      "  [139. 137. 150.]\n",
      "  [211. 211. 223.]\n",
      "  [241. 239. 250.]]\n",
      "\n",
      " [[188. 183. 187.]\n",
      "  [250. 245. 251.]\n",
      "  [255. 252. 255.]\n",
      "  ...\n",
      "  [137. 135. 146.]\n",
      "  [209. 207. 220.]\n",
      "  [175. 173. 184.]]\n",
      "\n",
      " ...\n",
      "\n",
      " [[137. 144.  92.]\n",
      "  [127. 131.  81.]\n",
      "  [135. 143.  94.]\n",
      "  ...\n",
      "  [138.  97.  69.]\n",
      "  [130.  93.  66.]\n",
      "  [132.  96.  72.]]\n",
      "\n",
      " [[ 79.  86.  34.]\n",
      "  [106. 108.  58.]\n",
      "  [114. 120.  72.]\n",
      "  ...\n",
      "  [133.  94.  65.]\n",
      "  [152. 115.  89.]\n",
      "  [111.  77.  52.]]\n",
      "\n",
      " [[100. 104.  54.]\n",
      "  [123. 122.  74.]\n",
      "  [105. 108.  63.]\n",
      "  ...\n",
      "  [151. 115.  93.]\n",
      "  [142. 106.  90.]\n",
      "  [116.  84.  71.]]]\n",
      "[[[[234. 232. 235.]\n",
      "   [119. 117. 122.]\n",
      "   [ 23.  18.  24.]\n",
      "   ...\n",
      "   [102. 100. 111.]\n",
      "   [ 91.  91. 101.]\n",
      "   [218. 218. 226.]]\n",
      "\n",
      "  [[202. 197. 201.]\n",
      "   [210. 205. 211.]\n",
      "   [183. 178. 184.]\n",
      "   ...\n",
      "   [139. 137. 150.]\n",
      "   [211. 211. 223.]\n",
      "   [241. 239. 250.]]\n",
      "\n",
      "  [[188. 183. 187.]\n",
      "   [250. 245. 251.]\n",
      "   [255. 252. 255.]\n",
      "   ...\n",
      "   [137. 135. 146.]\n",
      "   [209. 207. 220.]\n",
      "   [175. 173. 184.]]\n",
      "\n",
      "  ...\n",
      "\n",
      "  [[137. 144.  92.]\n",
      "   [127. 131.  81.]\n",
      "   [135. 143.  94.]\n",
      "   ...\n",
      "   [138.  97.  69.]\n",
      "   [130.  93.  66.]\n",
      "   [132.  96.  72.]]\n",
      "\n",
      "  [[ 79.  86.  34.]\n",
      "   [106. 108.  58.]\n",
      "   [114. 120.  72.]\n",
      "   ...\n",
      "   [133.  94.  65.]\n",
      "   [152. 115.  89.]\n",
      "   [111.  77.  52.]]\n",
      "\n",
      "  [[100. 104.  54.]\n",
      "   [123. 122.  74.]\n",
      "   [105. 108.  63.]\n",
      "   ...\n",
      "   [151. 115.  93.]\n",
      "   [142. 106.  90.]\n",
      "   [116.  84.  71.]]]]\n",
      "1/1 [==============================] - 0s 23ms/step\n"
     ]
    },
    {
     "data": {
      "text/plain": [
       "'forest'"
      ]
     },
     "execution_count": 13,
     "metadata": {},
     "output_type": "execute_result"
    }
   ],
   "source": [
    "img6 = load_img('../Dataset/test/forest/12968.jpg', target_size=(64,64))\n",
    "imgplot = plt. imshow(img6)\n",
    "plt. show()\n",
    "x6 = img_to_array(img6)\n",
    "print(x6)\n",
    "x6 = np.expand_dims(x6,axis=0)\n",
    "print(x6)\n",
    "pred6 = np.argmax(cnn.predict(x6),axis=1)\n",
    "pred6\n",
    "index[pred6[0]]"
   ]
  }
 ],
 "metadata": {
  "kernelspec": {
   "display_name": "Python 3.9.13 ('tenserflow')",
   "language": "python",
   "name": "python3"
  },
  "language_info": {
   "codemirror_mode": {
    "name": "ipython",
    "version": 3
   },
   "file_extension": ".py",
   "mimetype": "text/x-python",
   "name": "python",
   "nbconvert_exporter": "python",
   "pygments_lexer": "ipython3",
   "version": "3.9.13"
  },
  "orig_nbformat": 4,
  "vscode": {
   "interpreter": {
    "hash": "9539c661234d93aa3bf316fa618be13b588bc5a2acd9d8d4668c9ce95f99e328"
   }
  }
 },
 "nbformat": 4,
 "nbformat_minor": 2
}
