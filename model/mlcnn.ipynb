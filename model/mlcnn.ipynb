{
 "cells": [
  {
   "cell_type": "code",
   "execution_count": 63,
   "metadata": {},
   "outputs": [],
   "source": [
    "import numpy as np\n",
    "import pandas as pd\n",
    "import tensorflow as tf\n",
    "from keras.preprocessing.image import ImageDataGenerator \n",
    "from keras.utils import load_img\n",
    "import matplotlib. pyplot as plt"
   ]
  },
  {
   "cell_type": "code",
   "execution_count": 64,
   "metadata": {},
   "outputs": [
    {
     "name": "stdout",
     "output_type": "stream",
     "text": [
      "Found 11405 images belonging to 6 classes.\n"
     ]
    }
   ],
   "source": [
    "train_datagen = ImageDataGenerator(\n",
    "                    rescale = 1/255,\n",
    "                    shear_range = 0.2,\n",
    "                    zoom_range = 0.2,\n",
    "                    horizontal_flip = True,\n",
    "                    vertical_flip = False)\n",
    "training_set = train_datagen.flow_from_directory(\"../Dataset/train/\",\n",
    "                                                 target_size = (64, 64),\n",
    "                                                 class_mode = 'categorical')"
   ]
  },
  {
   "cell_type": "code",
   "execution_count": 65,
   "metadata": {},
   "outputs": [
    {
     "name": "stdout",
     "output_type": "stream",
     "text": [
      "Found 2629 images belonging to 6 classes.\n"
     ]
    }
   ],
   "source": [
    "test_datagen = ImageDataGenerator(rescale = 1/255)\n",
    "test_set = test_datagen.flow_from_directory(\"../Dataset/test/\",\n",
    "                                            target_size = (64, 64),\n",
    "                                            class_mode = 'categorical')"
   ]
  },
  {
   "cell_type": "code",
   "execution_count": 66,
   "metadata": {},
   "outputs": [
    {
     "data": {
      "text/plain": [
       "{'buildings': 0,\n",
       " 'forest': 1,\n",
       " 'glacier': 2,\n",
       " 'mountain': 3,\n",
       " 'sea': 4,\n",
       " 'street': 5}"
      ]
     },
     "execution_count": 66,
     "metadata": {},
     "output_type": "execute_result"
    }
   ],
   "source": [
    "training_set.class_indices"
   ]
  },
  {
   "cell_type": "code",
   "execution_count": 67,
   "metadata": {},
   "outputs": [],
   "source": [
    "from keras.models import Sequential\n",
    "from keras.layers import Convolution2D, MaxPooling2D, Flatten, Dense"
   ]
  },
  {
   "cell_type": "code",
   "execution_count": 68,
   "metadata": {},
   "outputs": [],
   "source": [
    "cnn = Sequential()\n",
    "cnn.add(Convolution2D(filters=32, kernel_size=3, activation='relu', input_shape=(64,64,3)))\n",
    "cnn.add(MaxPooling2D(pool_size=(2,2)))\n",
    "cnn.add(Convolution2D(filters=32, kernel_size=3, activation='relu'))\n",
    "cnn.add(MaxPooling2D(pool_size=(2,2)))\n",
    "cnn.add(Flatten())\n",
    "cnn.add(Dense(units=256, activation='relu'))\n",
    "cnn.add(Dense(units=128, activation='relu'))\n",
    "cnn.add(Dense(units=6, activation='softmax'))"
   ]
  },
  {
   "cell_type": "code",
   "execution_count": 69,
   "metadata": {},
   "outputs": [],
   "source": [
    "cnn.compile(optimizer = 'adam', loss = 'categorical_crossentropy', metrics = ['accuracy'])"
   ]
  },
  {
   "cell_type": "code",
   "execution_count": 70,
   "metadata": {},
   "outputs": [
    {
     "name": "stdout",
     "output_type": "stream",
     "text": [
      "Epoch 1/10\n",
      "357/357 [==============================] - 28s 78ms/step - loss: 1.0398 - accuracy: 0.5967 - val_loss: 0.8781 - val_accuracy: 0.6607\n",
      "Epoch 2/10\n",
      "357/357 [==============================] - 25s 70ms/step - loss: 0.8203 - accuracy: 0.6943 - val_loss: 0.7960 - val_accuracy: 0.6987\n",
      "Epoch 3/10\n",
      "357/357 [==============================] - 25s 71ms/step - loss: 0.7266 - accuracy: 0.7313 - val_loss: 0.5967 - val_accuracy: 0.7912\n",
      "Epoch 4/10\n",
      "357/357 [==============================] - 25s 69ms/step - loss: 0.6462 - accuracy: 0.7690 - val_loss: 0.6319 - val_accuracy: 0.7775\n",
      "Epoch 5/10\n",
      "357/357 [==============================] - 25s 71ms/step - loss: 0.5856 - accuracy: 0.7877 - val_loss: 0.5934 - val_accuracy: 0.7801\n",
      "Epoch 6/10\n",
      "357/357 [==============================] - 25s 69ms/step - loss: 0.5481 - accuracy: 0.8002 - val_loss: 0.5819 - val_accuracy: 0.7961\n",
      "Epoch 7/10\n",
      "357/357 [==============================] - 25s 71ms/step - loss: 0.5067 - accuracy: 0.8194 - val_loss: 0.5675 - val_accuracy: 0.7954\n",
      "Epoch 8/10\n",
      "357/357 [==============================] - 25s 71ms/step - loss: 0.4762 - accuracy: 0.8282 - val_loss: 0.5558 - val_accuracy: 0.8014\n",
      "Epoch 9/10\n",
      "357/357 [==============================] - 26s 72ms/step - loss: 0.4389 - accuracy: 0.8429 - val_loss: 0.5378 - val_accuracy: 0.8087\n",
      "Epoch 10/10\n",
      "357/357 [==============================] - 25s 71ms/step - loss: 0.4293 - accuracy: 0.8461 - val_loss: 0.5571 - val_accuracy: 0.8007\n"
     ]
    },
    {
     "data": {
      "text/plain": [
       "<keras.callbacks.History at 0x295d7a7bbe0>"
      ]
     },
     "execution_count": 70,
     "metadata": {},
     "output_type": "execute_result"
    }
   ],
   "source": [
    "cnn.fit(training_set, steps_per_epoch= len(training_set), validation_data = test_set, validation_steps=len(test_set), epochs = 10)"
   ]
  },
  {
   "cell_type": "code",
   "execution_count": 71,
   "metadata": {},
   "outputs": [
    {
     "data": {
      "image/png": "[encoded data removed]",
      "text/plain": [
       "<Figure size 432x288 with 1 Axes>"
      ]
     },
     "metadata": {
      "needs_background": "light"
     },
     "output_type": "display_data"
    },
    {
     "name": "stdout",
     "output_type": "stream",
     "text": [
      "<PIL.Image.Image image mode=RGB size=64x64 at 0x295D87EDAE0>\n",
      "[[[  2.   2.   2.]\n",
      "  [  0.   0.   0.]\n",
      "  [  0.   0.   0.]\n",
      "  ...\n",
      "  [  0.   0.   0.]\n",
      "  [  0.   0.   0.]\n",
      "  [  0.   0.   0.]]\n",
      "\n",
      " [[ 13.  13.  13.]\n",
      "  [ 16.  16.  16.]\n",
      "  [ 37.  37.  37.]\n",
      "  ...\n",
      "  [  0.   0.   0.]\n",
      "  [  0.   0.   0.]\n",
      "  [  0.   0.   0.]]\n",
      "\n",
      " [[  1.   1.   1.]\n",
      "  [  1.   1.   1.]\n",
      "  [  5.   5.   5.]\n",
      "  ...\n",
      "  [  0.   0.   0.]\n",
      "  [  0.   0.   0.]\n",
      "  [  0.   0.   0.]]\n",
      "\n",
      " ...\n",
      "\n",
      " [[ 64.  64.  64.]\n",
      "  [137. 137. 137.]\n",
      "  [143. 143. 143.]\n",
      "  ...\n",
      "  [ 13.  13.  13.]\n",
      "  [ 12.  12.  12.]\n",
      "  [  0.   0.   0.]]\n",
      "\n",
      " [[  3.   3.   3.]\n",
      "  [  9.   9.   9.]\n",
      "  [  4.   4.   4.]\n",
      "  ...\n",
      "  [ 12.  12.  12.]\n",
      "  [  4.   4.   4.]\n",
      "  [  0.   0.   0.]]\n",
      "\n",
      " [[ 79.  79.  79.]\n",
      "  [103. 103. 103.]\n",
      "  [129. 129. 129.]\n",
      "  ...\n",
      "  [ 15.  15.  15.]\n",
      "  [  6.   6.   6.]\n",
      "  [  0.   0.   0.]]]\n",
      "[[[[  2.   2.   2.]\n",
      "   [  0.   0.   0.]\n",
      "   [  0.   0.   0.]\n",
      "   ...\n",
      "   [  0.   0.   0.]\n",
      "   [  0.   0.   0.]\n",
      "   [  0.   0.   0.]]\n",
      "\n",
      "  [[ 13.  13.  13.]\n",
      "   [ 16.  16.  16.]\n",
      "   [ 37.  37.  37.]\n",
      "   ...\n",
      "   [  0.   0.   0.]\n",
      "   [  0.   0.   0.]\n",
      "   [  0.   0.   0.]]\n",
      "\n",
      "  [[  1.   1.   1.]\n",
      "   [  1.   1.   1.]\n",
      "   [  5.   5.   5.]\n",
      "   ...\n",
      "   [  0.   0.   0.]\n",
      "   [  0.   0.   0.]\n",
      "   [  0.   0.   0.]]\n",
      "\n",
      "  ...\n",
      "\n",
      "  [[ 64.  64.  64.]\n",
      "   [137. 137. 137.]\n",
      "   [143. 143. 143.]\n",
      "   ...\n",
      "   [ 13.  13.  13.]\n",
      "   [ 12.  12.  12.]\n",
      "   [  0.   0.   0.]]\n",
      "\n",
      "  [[  3.   3.   3.]\n",
      "   [  9.   9.   9.]\n",
      "   [  4.   4.   4.]\n",
      "   ...\n",
      "   [ 12.  12.  12.]\n",
      "   [  4.   4.   4.]\n",
      "   [  0.   0.   0.]]\n",
      "\n",
      "  [[ 79.  79.  79.]\n",
      "   [103. 103. 103.]\n",
      "   [129. 129. 129.]\n",
      "   ...\n",
      "   [ 15.  15.  15.]\n",
      "   [  6.   6.   6.]\n",
      "   [  0.   0.   0.]]]]\n",
      "1/1 [==============================] - 0s 51ms/step\n"
     ]
    },
    {
     "data": {
      "text/plain": [
       "'buildings'"
      ]
     },
     "execution_count": 71,
     "metadata": {},
     "output_type": "execute_result"
    }
   ],
   "source": [
    "from keras_preprocessing.image.utils import load_img,img_to_array\n",
    "import numpy as np\n",
    "from keras.preprocessing import image\n",
    "index = ['buildings','forest','glacier','mountain','sea','street']\n",
    "img = load_img(\"../Dataset/test/buildings/15331.jpg\", target_size=(64,64))\n",
    "imgplot = plt. imshow(img)\n",
    "plt. show()\n",
    "print(img)\n",
    "x = img_to_array(img)\n",
    "print(x)\n",
    "x = np.expand_dims(x,axis=0)\n",
    "print(x)\n",
    "pred = np.argmax(cnn.predict(x),axis=1)\n",
    "pred\n",
    "index[pred[0]]"
   ]
  },
  {
   "cell_type": "code",
   "execution_count": 72,
   "metadata": {},
   "outputs": [
    {
     "data": {
      "image/png": "[encoded data removed]",
      "text/plain": [
       "<Figure size 432x288 with 1 Axes>"
      ]
     },
     "metadata": {
      "needs_background": "light"
     },
     "output_type": "display_data"
    },
    {
     "name": "stdout",
     "output_type": "stream",
     "text": [
      "[[[213. 176. 121.]\n",
      "  [214. 177. 122.]\n",
      "  [211. 176. 122.]\n",
      "  ...\n",
      "  [251. 206. 138.]\n",
      "  [254. 209. 141.]\n",
      "  [253. 208. 140.]]\n",
      "\n",
      " [[240. 196. 133.]\n",
      "  [237. 196. 130.]\n",
      "  [245. 205. 135.]\n",
      "  ...\n",
      "  [245. 200. 135.]\n",
      "  [247. 202. 137.]\n",
      "  [249. 204. 139.]]\n",
      "\n",
      " [[254. 215. 146.]\n",
      "  [255. 217. 152.]\n",
      "  [253. 213. 152.]\n",
      "  ...\n",
      "  [200. 167. 116.]\n",
      "  [202. 169. 118.]\n",
      "  [203. 170. 119.]]\n",
      "\n",
      " ...\n",
      "\n",
      " [[  0.   4.   3.]\n",
      "  [ 18.  20.  19.]\n",
      "  [ 35.  37.  32.]\n",
      "  ...\n",
      "  [  4.   0.   0.]\n",
      "  [  3.   0.   0.]\n",
      "  [ 11.   8.   3.]]\n",
      "\n",
      " [[ 17.  21.  20.]\n",
      "  [ 12.  14.  13.]\n",
      "  [ 42.  43.  37.]\n",
      "  ...\n",
      "  [ 48.  47.  43.]\n",
      "  [ 49.  48.  44.]\n",
      "  [ 52.  51.  47.]]\n",
      "\n",
      " [[ 27.  33.  29.]\n",
      "  [ 13.  15.  14.]\n",
      "  [ 23.  24.  19.]\n",
      "  ...\n",
      "  [ 40.  39.  35.]\n",
      "  [ 41.  40.  36.]\n",
      "  [ 40.  39.  35.]]]\n",
      "[[[[213. 176. 121.]\n",
      "   [214. 177. 122.]\n",
      "   [211. 176. 122.]\n",
      "   ...\n",
      "   [251. 206. 138.]\n",
      "   [254. 209. 141.]\n",
      "   [253. 208. 140.]]\n",
      "\n",
      "  [[240. 196. 133.]\n",
      "   [237. 196. 130.]\n",
      "   [245. 205. 135.]\n",
      "   ...\n",
      "   [245. 200. 135.]\n",
      "   [247. 202. 137.]\n",
      "   [249. 204. 139.]]\n",
      "\n",
      "  [[254. 215. 146.]\n",
      "   [255. 217. 152.]\n",
      "   [253. 213. 152.]\n",
      "   ...\n",
      "   [200. 167. 116.]\n",
      "   [202. 169. 118.]\n",
      "   [203. 170. 119.]]\n",
      "\n",
      "  ...\n",
      "\n",
      "  [[  0.   4.   3.]\n",
      "   [ 18.  20.  19.]\n",
      "   [ 35.  37.  32.]\n",
      "   ...\n",
      "   [  4.   0.   0.]\n",
      "   [  3.   0.   0.]\n",
      "   [ 11.   8.   3.]]\n",
      "\n",
      "  [[ 17.  21.  20.]\n",
      "   [ 12.  14.  13.]\n",
      "   [ 42.  43.  37.]\n",
      "   ...\n",
      "   [ 48.  47.  43.]\n",
      "   [ 49.  48.  44.]\n",
      "   [ 52.  51.  47.]]\n",
      "\n",
      "  [[ 27.  33.  29.]\n",
      "   [ 13.  15.  14.]\n",
      "   [ 23.  24.  19.]\n",
      "   ...\n",
      "   [ 40.  39.  35.]\n",
      "   [ 41.  40.  36.]\n",
      "   [ 40.  39.  35.]]]]\n",
      "1/1 [==============================] - 0s 18ms/step\n"
     ]
    },
    {
     "data": {
      "text/plain": [
       "'sea'"
      ]
     },
     "execution_count": 72,
     "metadata": {},
     "output_type": "execute_result"
    }
   ],
   "source": [
    "img = load_img('../Dataset/test/sea/14990.jpg', target_size=(64,64))\n",
    "imgplot = plt. imshow(img)\n",
    "plt. show()\n",
    "x = img_to_array(img)\n",
    "print(x)\n",
    "x = np.expand_dims(x,axis=0)\n",
    "print(x)\n",
    "pred = np.argmax(cnn.predict(x),axis=1)\n",
    "pred\n",
    "index[pred[0]]"
   ]
  },
  {
   "cell_type": "code",
   "execution_count": 73,
   "metadata": {},
   "outputs": [
    {
     "data": {
      "image/png": "[encoded data removed]",
      "text/plain": [
       "<Figure size 432x288 with 1 Axes>"
      ]
     },
     "metadata": {
      "needs_background": "light"
     },
     "output_type": "display_data"
    },
    {
     "name": "stdout",
     "output_type": "stream",
     "text": [
      "[[[ 13.  33.  58.]\n",
      "  [ 13.  33.  58.]\n",
      "  [ 13.  33.  58.]\n",
      "  ...\n",
      "  [ 16.  37.  68.]\n",
      "  [ 16.  37.  68.]\n",
      "  [ 16.  37.  68.]]\n",
      "\n",
      " [[ 14.  34.  61.]\n",
      "  [ 14.  34.  61.]\n",
      "  [ 14.  34.  61.]\n",
      "  ...\n",
      "  [ 16.  37.  68.]\n",
      "  [ 16.  37.  68.]\n",
      "  [ 17.  38.  69.]]\n",
      "\n",
      " [[ 15.  35.  62.]\n",
      "  [ 15.  35.  62.]\n",
      "  [ 15.  35.  62.]\n",
      "  ...\n",
      "  [ 18.  38.  71.]\n",
      "  [ 18.  38.  73.]\n",
      "  [ 17.  37.  72.]]\n",
      "\n",
      " ...\n",
      "\n",
      " [[110. 118. 121.]\n",
      "  [114. 121. 127.]\n",
      "  [120. 129. 134.]\n",
      "  ...\n",
      "  [160. 161. 163.]\n",
      "  [160. 161. 163.]\n",
      "  [163. 164. 166.]]\n",
      "\n",
      " [[123. 128. 132.]\n",
      "  [116. 124. 127.]\n",
      "  [110. 119. 124.]\n",
      "  ...\n",
      "  [159. 160. 162.]\n",
      "  [163. 164. 166.]\n",
      "  [166. 167. 169.]]\n",
      "\n",
      " [[121. 126. 130.]\n",
      "  [108. 116. 119.]\n",
      "  [113. 122. 127.]\n",
      "  ...\n",
      "  [168. 169. 171.]\n",
      "  [170. 171. 173.]\n",
      "  [171. 172. 174.]]]\n",
      "[[[[ 13.  33.  58.]\n",
      "   [ 13.  33.  58.]\n",
      "   [ 13.  33.  58.]\n",
      "   ...\n",
      "   [ 16.  37.  68.]\n",
      "   [ 16.  37.  68.]\n",
      "   [ 16.  37.  68.]]\n",
      "\n",
      "  [[ 14.  34.  61.]\n",
      "   [ 14.  34.  61.]\n",
      "   [ 14.  34.  61.]\n",
      "   ...\n",
      "   [ 16.  37.  68.]\n",
      "   [ 16.  37.  68.]\n",
      "   [ 17.  38.  69.]]\n",
      "\n",
      "  [[ 15.  35.  62.]\n",
      "   [ 15.  35.  62.]\n",
      "   [ 15.  35.  62.]\n",
      "   ...\n",
      "   [ 18.  38.  71.]\n",
      "   [ 18.  38.  73.]\n",
      "   [ 17.  37.  72.]]\n",
      "\n",
      "  ...\n",
      "\n",
      "  [[110. 118. 121.]\n",
      "   [114. 121. 127.]\n",
      "   [120. 129. 134.]\n",
      "   ...\n",
      "   [160. 161. 163.]\n",
      "   [160. 161. 163.]\n",
      "   [163. 164. 166.]]\n",
      "\n",
      "  [[123. 128. 132.]\n",
      "   [116. 124. 127.]\n",
      "   [110. 119. 124.]\n",
      "   ...\n",
      "   [159. 160. 162.]\n",
      "   [163. 164. 166.]\n",
      "   [166. 167. 169.]]\n",
      "\n",
      "  [[121. 126. 130.]\n",
      "   [108. 116. 119.]\n",
      "   [113. 122. 127.]\n",
      "   ...\n",
      "   [168. 169. 171.]\n",
      "   [170. 171. 173.]\n",
      "   [171. 172. 174.]]]]\n",
      "1/1 [==============================] - 0s 18ms/step\n"
     ]
    },
    {
     "data": {
      "text/plain": [
       "'glacier'"
      ]
     },
     "execution_count": 73,
     "metadata": {},
     "output_type": "execute_result"
    }
   ],
   "source": [
    "img = load_img('../Dataset/test/glacier/13251.jpg', target_size=(64,64))\n",
    "imgplot = plt. imshow(img)\n",
    "plt. show()\n",
    "x1 = img_to_array(img)\n",
    "print(x1)\n",
    "x1 = np.expand_dims(x1,axis=0)\n",
    "print(x1)\n",
    "pred1 = np.argmax(cnn.predict(x1),axis=1)\n",
    "pred1\n",
    "index[pred1[0]]\n"
   ]
  },
  {
   "cell_type": "code",
   "execution_count": 74,
   "metadata": {},
   "outputs": [
    {
     "data": {
      "image/png": "[encoded data removed]",
      "text/plain": [
       "<Figure size 432x288 with 1 Axes>"
      ]
     },
     "metadata": {
      "needs_background": "light"
     },
     "output_type": "display_data"
    },
    {
     "name": "stdout",
     "output_type": "stream",
     "text": [
      "[[[ 71.  71.  71.]\n",
      "  [ 74.  74.  74.]\n",
      "  [ 71.  71.  71.]\n",
      "  ...\n",
      "  [ 49.  49.  49.]\n",
      "  [ 52.  52.  52.]\n",
      "  [ 53.  53.  53.]]\n",
      "\n",
      " [[ 78.  78.  78.]\n",
      "  [ 78.  78.  78.]\n",
      "  [ 70.  70.  70.]\n",
      "  ...\n",
      "  [ 51.  51.  51.]\n",
      "  [ 53.  53.  53.]\n",
      "  [ 53.  53.  53.]]\n",
      "\n",
      " [[ 74.  74.  74.]\n",
      "  [ 69.  69.  69.]\n",
      "  [ 71.  71.  71.]\n",
      "  ...\n",
      "  [ 52.  52.  52.]\n",
      "  [ 53.  53.  53.]\n",
      "  [ 52.  52.  52.]]\n",
      "\n",
      " ...\n",
      "\n",
      " [[ 56.  56.  56.]\n",
      "  [ 55.  55.  55.]\n",
      "  [ 66.  66.  66.]\n",
      "  ...\n",
      "  [ 97.  97.  97.]\n",
      "  [100. 100. 100.]\n",
      "  [ 99.  99.  99.]]\n",
      "\n",
      " [[ 66.  66.  66.]\n",
      "  [ 66.  66.  66.]\n",
      "  [ 56.  56.  56.]\n",
      "  ...\n",
      "  [ 93.  93.  93.]\n",
      "  [ 97.  97.  97.]\n",
      "  [ 99.  99.  99.]]\n",
      "\n",
      " [[ 65.  65.  65.]\n",
      "  [ 64.  64.  64.]\n",
      "  [ 54.  54.  54.]\n",
      "  ...\n",
      "  [101. 101. 101.]\n",
      "  [ 98.  98.  98.]\n",
      "  [100. 100. 100.]]]\n",
      "[[[[ 71.  71.  71.]\n",
      "   [ 74.  74.  74.]\n",
      "   [ 71.  71.  71.]\n",
      "   ...\n",
      "   [ 49.  49.  49.]\n",
      "   [ 52.  52.  52.]\n",
      "   [ 53.  53.  53.]]\n",
      "\n",
      "  [[ 78.  78.  78.]\n",
      "   [ 78.  78.  78.]\n",
      "   [ 70.  70.  70.]\n",
      "   ...\n",
      "   [ 51.  51.  51.]\n",
      "   [ 53.  53.  53.]\n",
      "   [ 53.  53.  53.]]\n",
      "\n",
      "  [[ 74.  74.  74.]\n",
      "   [ 69.  69.  69.]\n",
      "   [ 71.  71.  71.]\n",
      "   ...\n",
      "   [ 52.  52.  52.]\n",
      "   [ 53.  53.  53.]\n",
      "   [ 52.  52.  52.]]\n",
      "\n",
      "  ...\n",
      "\n",
      "  [[ 56.  56.  56.]\n",
      "   [ 55.  55.  55.]\n",
      "   [ 66.  66.  66.]\n",
      "   ...\n",
      "   [ 97.  97.  97.]\n",
      "   [100. 100. 100.]\n",
      "   [ 99.  99.  99.]]\n",
      "\n",
      "  [[ 66.  66.  66.]\n",
      "   [ 66.  66.  66.]\n",
      "   [ 56.  56.  56.]\n",
      "   ...\n",
      "   [ 93.  93.  93.]\n",
      "   [ 97.  97.  97.]\n",
      "   [ 99.  99.  99.]]\n",
      "\n",
      "  [[ 65.  65.  65.]\n",
      "   [ 64.  64.  64.]\n",
      "   [ 54.  54.  54.]\n",
      "   ...\n",
      "   [101. 101. 101.]\n",
      "   [ 98.  98.  98.]\n",
      "   [100. 100. 100.]]]]\n",
      "1/1 [==============================] - 0s 14ms/step\n"
     ]
    },
    {
     "data": {
      "text/plain": [
       "'street'"
      ]
     },
     "execution_count": 74,
     "metadata": {},
     "output_type": "execute_result"
    }
   ],
   "source": [
    "img5 = load_img('../Dataset/test/street/12861.jpg', target_size=(64,64))\n",
    "imgplot = plt. imshow(img5)\n",
    "plt. show()\n",
    "x5 = img_to_array(img5)\n",
    "print(x5)\n",
    "x5 = np.expand_dims(x5,axis=0)\n",
    "print(x5)\n",
    "pred5 = np.argmax(cnn.predict(x5),axis=1)\n",
    "pred5\n",
    "index[pred5[0]]"
   ]
  },
  {
   "cell_type": "code",
   "execution_count": 75,
   "metadata": {},
   "outputs": [
    {
     "data": {
      "image/png": "[encoded data removed]",
      "text/plain": [
       "<Figure size 432x288 with 1 Axes>"
      ]
     },
     "metadata": {
      "needs_background": "light"
     },
     "output_type": "display_data"
    },
    {
     "name": "stdout",
     "output_type": "stream",
     "text": [
      "[[[ 11.   7.   8.]\n",
      "  [ 27.  18.  21.]\n",
      "  [ 83.  76.  68.]\n",
      "  ...\n",
      "  [ 56.  44.  32.]\n",
      "  [ 85.  75.  65.]\n",
      "  [ 32.  21.  17.]]\n",
      "\n",
      " [[  6.   0.   4.]\n",
      "  [ 30.  21.  22.]\n",
      "  [ 44.  37.  29.]\n",
      "  ...\n",
      "  [ 40.  34.  20.]\n",
      "  [ 51.  44.  34.]\n",
      "  [  9.   1.   0.]]\n",
      "\n",
      " [[ 14.   8.  12.]\n",
      "  [ 15.   8.   2.]\n",
      "  [ 62.  54.  51.]\n",
      "  ...\n",
      "  [ 69.  63.  49.]\n",
      "  [ 25.  18.  10.]\n",
      "  [ 35.  27.  24.]]\n",
      "\n",
      " ...\n",
      "\n",
      " [[ 92.  81.  27.]\n",
      "  [181. 176. 120.]\n",
      "  [ 99.  85.  40.]\n",
      "  ...\n",
      "  [ 74.  80.  16.]\n",
      "  [100. 105.  47.]\n",
      "  [ 92.  90.  39.]]\n",
      "\n",
      " [[187. 152. 120.]\n",
      "  [ 50.  30.   0.]\n",
      "  [184. 162. 125.]\n",
      "  ...\n",
      "  [ 88.  95.  25.]\n",
      "  [ 78.  81.  24.]\n",
      "  [125. 123.  72.]]\n",
      "\n",
      " [[146. 110.  86.]\n",
      "  [177. 157. 130.]\n",
      "  [157. 140.  96.]\n",
      "  ...\n",
      "  [100. 110.  41.]\n",
      "  [ 62.  67.  13.]\n",
      "  [ 71.  70.  22.]]]\n",
      "[[[[ 11.   7.   8.]\n",
      "   [ 27.  18.  21.]\n",
      "   [ 83.  76.  68.]\n",
      "   ...\n",
      "   [ 56.  44.  32.]\n",
      "   [ 85.  75.  65.]\n",
      "   [ 32.  21.  17.]]\n",
      "\n",
      "  [[  6.   0.   4.]\n",
      "   [ 30.  21.  22.]\n",
      "   [ 44.  37.  29.]\n",
      "   ...\n",
      "   [ 40.  34.  20.]\n",
      "   [ 51.  44.  34.]\n",
      "   [  9.   1.   0.]]\n",
      "\n",
      "  [[ 14.   8.  12.]\n",
      "   [ 15.   8.   2.]\n",
      "   [ 62.  54.  51.]\n",
      "   ...\n",
      "   [ 69.  63.  49.]\n",
      "   [ 25.  18.  10.]\n",
      "   [ 35.  27.  24.]]\n",
      "\n",
      "  ...\n",
      "\n",
      "  [[ 92.  81.  27.]\n",
      "   [181. 176. 120.]\n",
      "   [ 99.  85.  40.]\n",
      "   ...\n",
      "   [ 74.  80.  16.]\n",
      "   [100. 105.  47.]\n",
      "   [ 92.  90.  39.]]\n",
      "\n",
      "  [[187. 152. 120.]\n",
      "   [ 50.  30.   0.]\n",
      "   [184. 162. 125.]\n",
      "   ...\n",
      "   [ 88.  95.  25.]\n",
      "   [ 78.  81.  24.]\n",
      "   [125. 123.  72.]]\n",
      "\n",
      "  [[146. 110.  86.]\n",
      "   [177. 157. 130.]\n",
      "   [157. 140.  96.]\n",
      "   ...\n",
      "   [100. 110.  41.]\n",
      "   [ 62.  67.  13.]\n",
      "   [ 71.  70.  22.]]]]\n",
      "1/1 [==============================] - 0s 15ms/step\n"
     ]
    },
    {
     "data": {
      "text/plain": [
       "'forest'"
      ]
     },
     "execution_count": 75,
     "metadata": {},
     "output_type": "execute_result"
    }
   ],
   "source": [
    "img6 = load_img('../Dataset/test/forest/13378.jpg', target_size=(64,64))\n",
    "imgplot = plt. imshow(img6)\n",
    "plt. show()\n",
    "x6 = img_to_array(img6)\n",
    "print(x6)\n",
    "x6 = np.expand_dims(x6,axis=0)\n",
    "print(x6)\n",
    "pred6 = np.argmax(cnn.predict(x6),axis=1)\n",
    "pred6\n",
    "index[pred6[0]]"
   ]
  }
 ],
 "metadata": {
  "kernelspec": {
   "display_name": "Python 3.10.2 64-bit",
   "language": "python",
   "name": "python3"
  },
  "language_info": {
   "codemirror_mode": {
    "name": "ipython",
    "version": 3
   },
   "file_extension": ".py",
   "mimetype": "text/x-python",
   "name": "python",
   "nbconvert_exporter": "python",
   "pygments_lexer": "ipython3",
   "version": "3.10.2"
  },
  "orig_nbformat": 4,
  "vscode": {
   "interpreter": {
    "hash": "27f6fea6f47ae512550f0b8facdbd035a93e1dd89633f7bf2dd00a2502c71d0d"
   }
  }
 },
 "nbformat": 4,
 "nbformat_minor": 2
}
